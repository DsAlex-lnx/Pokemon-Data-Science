{
 "cells": [
  {
   "cell_type": "code",
   "execution_count": 1,
   "metadata": {},
   "outputs": [],
   "source": [
    "import pandas as pd "
   ]
  },
  {
   "cell_type": "code",
   "execution_count": 4,
   "metadata": {},
   "outputs": [
    {
     "data": {
      "text/html": [
       "<div>\n",
       "<style scoped>\n",
       "    .dataframe tbody tr th:only-of-type {\n",
       "        vertical-align: middle;\n",
       "    }\n",
       "\n",
       "    .dataframe tbody tr th {\n",
       "        vertical-align: top;\n",
       "    }\n",
       "\n",
       "    .dataframe thead th {\n",
       "        text-align: right;\n",
       "    }\n",
       "</style>\n",
       "<table border=\"1\" class=\"dataframe\">\n",
       "  <thead>\n",
       "    <tr style=\"text-align: right;\">\n",
       "      <th></th>\n",
       "      <th>number</th>\n",
       "      <th>name</th>\n",
       "      <th>type1</th>\n",
       "      <th>type2</th>\n",
       "      <th>total</th>\n",
       "      <th>hp</th>\n",
       "      <th>attack</th>\n",
       "      <th>defense</th>\n",
       "      <th>sp_attack</th>\n",
       "      <th>sp_defense</th>\n",
       "      <th>speed</th>\n",
       "      <th>generation</th>\n",
       "      <th>legendary</th>\n",
       "    </tr>\n",
       "  </thead>\n",
       "  <tbody>\n",
       "    <tr>\n",
       "      <th>0</th>\n",
       "      <td>1</td>\n",
       "      <td>Bulbasaur</td>\n",
       "      <td>Grass</td>\n",
       "      <td>Poison</td>\n",
       "      <td>318</td>\n",
       "      <td>45</td>\n",
       "      <td>49</td>\n",
       "      <td>49</td>\n",
       "      <td>65</td>\n",
       "      <td>65</td>\n",
       "      <td>45</td>\n",
       "      <td>1</td>\n",
       "      <td>False</td>\n",
       "    </tr>\n",
       "    <tr>\n",
       "      <th>1</th>\n",
       "      <td>2</td>\n",
       "      <td>Ivysaur</td>\n",
       "      <td>Grass</td>\n",
       "      <td>Poison</td>\n",
       "      <td>405</td>\n",
       "      <td>60</td>\n",
       "      <td>62</td>\n",
       "      <td>63</td>\n",
       "      <td>80</td>\n",
       "      <td>80</td>\n",
       "      <td>60</td>\n",
       "      <td>1</td>\n",
       "      <td>False</td>\n",
       "    </tr>\n",
       "    <tr>\n",
       "      <th>2</th>\n",
       "      <td>3</td>\n",
       "      <td>Venusaur</td>\n",
       "      <td>Grass</td>\n",
       "      <td>Poison</td>\n",
       "      <td>525</td>\n",
       "      <td>80</td>\n",
       "      <td>82</td>\n",
       "      <td>83</td>\n",
       "      <td>100</td>\n",
       "      <td>100</td>\n",
       "      <td>80</td>\n",
       "      <td>1</td>\n",
       "      <td>False</td>\n",
       "    </tr>\n",
       "    <tr>\n",
       "      <th>3</th>\n",
       "      <td>3</td>\n",
       "      <td>Mega Venusaur</td>\n",
       "      <td>Grass</td>\n",
       "      <td>Poison</td>\n",
       "      <td>625</td>\n",
       "      <td>80</td>\n",
       "      <td>100</td>\n",
       "      <td>123</td>\n",
       "      <td>122</td>\n",
       "      <td>120</td>\n",
       "      <td>80</td>\n",
       "      <td>1</td>\n",
       "      <td>False</td>\n",
       "    </tr>\n",
       "    <tr>\n",
       "      <th>4</th>\n",
       "      <td>3</td>\n",
       "      <td>Gigantamax Venusaur</td>\n",
       "      <td>Grass</td>\n",
       "      <td>Poison</td>\n",
       "      <td>525</td>\n",
       "      <td>80</td>\n",
       "      <td>82</td>\n",
       "      <td>83</td>\n",
       "      <td>100</td>\n",
       "      <td>100</td>\n",
       "      <td>80</td>\n",
       "      <td>1</td>\n",
       "      <td>False</td>\n",
       "    </tr>\n",
       "  </tbody>\n",
       "</table>\n",
       "</div>"
      ],
      "text/plain": [
       "   number                 name  type1   type2  total  hp  attack  defense  \\\n",
       "0       1            Bulbasaur  Grass  Poison    318  45      49       49   \n",
       "1       2              Ivysaur  Grass  Poison    405  60      62       63   \n",
       "2       3             Venusaur  Grass  Poison    525  80      82       83   \n",
       "3       3        Mega Venusaur  Grass  Poison    625  80     100      123   \n",
       "4       3  Gigantamax Venusaur  Grass  Poison    525  80      82       83   \n",
       "\n",
       "   sp_attack  sp_defense  speed  generation  legendary  \n",
       "0         65          65     45           1      False  \n",
       "1         80          80     60           1      False  \n",
       "2        100         100     80           1      False  \n",
       "3        122         120     80           1      False  \n",
       "4        100         100     80           1      False  "
      ]
     },
     "execution_count": 4,
     "metadata": {},
     "output_type": "execute_result"
    }
   ],
   "source": [
    "#Reading the CSV file and displaying its first rows\n",
    "df = pd.read_csv('datasets/pokemon.csv')\n",
    "df.head(5)"
   ]
  },
  {
   "cell_type": "code",
   "execution_count": 8,
   "metadata": {},
   "outputs": [
    {
     "data": {
      "text/plain": [
       "number         int64\n",
       "name          object\n",
       "type1         object\n",
       "type2         object\n",
       "total          int64\n",
       "hp             int64\n",
       "attack         int64\n",
       "defense        int64\n",
       "sp_attack      int64\n",
       "sp_defense     int64\n",
       "speed          int64\n",
       "generation     int64\n",
       "legendary       bool\n",
       "dtype: object"
      ]
     },
     "execution_count": 8,
     "metadata": {},
     "output_type": "execute_result"
    }
   ],
   "source": [
    "#Checking the types of each column\n",
    "df.dtypes"
   ]
  },
  {
   "cell_type": "code",
   "execution_count": 15,
   "metadata": {},
   "outputs": [
    {
     "name": "stdout",
     "output_type": "stream",
     "text": [
      "<class 'pandas.core.frame.DataFrame'>\n",
      "RangeIndex: 1072 entries, 0 to 1071\n",
      "Data columns (total 13 columns):\n",
      " #   Column      Non-Null Count  Dtype \n",
      "---  ------      --------------  ----- \n",
      " 0   number      1072 non-null   int64 \n",
      " 1   name        1072 non-null   object\n",
      " 2   type1       1072 non-null   object\n",
      " 3   type2       1072 non-null   object\n",
      " 4   total       1072 non-null   int64 \n",
      " 5   hp          1072 non-null   int64 \n",
      " 6   attack      1072 non-null   int64 \n",
      " 7   defense     1072 non-null   int64 \n",
      " 8   sp_attack   1072 non-null   int64 \n",
      " 9   sp_defense  1072 non-null   int64 \n",
      " 10  speed       1072 non-null   int64 \n",
      " 11  generation  1072 non-null   int64 \n",
      " 12  legendary   1072 non-null   bool  \n",
      "dtypes: bool(1), int64(9), object(3)\n",
      "memory usage: 101.7+ KB\n"
     ]
    }
   ],
   "source": [
    "#Provide an overview of the dataset, including data types, non-null counts, and memory usage.\n",
    "df.info()"
   ]
  },
  {
   "cell_type": "code",
   "execution_count": 5,
   "metadata": {},
   "outputs": [
    {
     "data": {
      "text/plain": [
       "number          0\n",
       "name            0\n",
       "type1           0\n",
       "type2         498\n",
       "total           0\n",
       "hp              0\n",
       "attack          0\n",
       "defense         0\n",
       "sp_attack       0\n",
       "sp_defense      0\n",
       "speed           0\n",
       "generation      0\n",
       "legendary       0\n",
       "dtype: int64"
      ]
     },
     "execution_count": 5,
     "metadata": {},
     "output_type": "execute_result"
    }
   ],
   "source": [
    "#Checking the number of empty attributes per column\n",
    "df.isna().sum()"
   ]
  },
  {
   "cell_type": "markdown",
   "metadata": {},
   "source": [
    "> **Note:** The majority of empty values are found in the 'Type2' column. This is because, in many cases, a Pokémon does not possess a secondary type.\n"
   ]
  },
  {
   "cell_type": "code",
   "execution_count": 6,
   "metadata": {},
   "outputs": [],
   "source": [
    "#Replace empty values (None) in the 'type2' column with the string 'None'\n",
    "df['type2'].fillna('None', inplace=True)"
   ]
  },
  {
   "cell_type": "markdown",
   "metadata": {},
   "source": [
    "This action is performed to make the data in the 'Type2' column more consistent and readable. The 'None' values indicate that a Pokémon does not have a secondary type. This simplifies data interpretation and prevents ambiguities, as empty values can be confused with missing or unknown information."
   ]
  },
  {
   "cell_type": "code",
   "execution_count": 13,
   "metadata": {},
   "outputs": [
    {
     "data": {
      "text/plain": [
       "0"
      ]
     },
     "execution_count": 13,
     "metadata": {},
     "output_type": "execute_result"
    }
   ],
   "source": [
    "#Checking the number of duplicated instances\n",
    "df.duplicated().sum()\n"
   ]
  },
  {
   "cell_type": "code",
   "execution_count": 19,
   "metadata": {},
   "outputs": [
    {
     "data": {
      "text/plain": [
       "array(['Grass', 'Fire', 'Water', 'Blastoise', 'Bug', 'Normal', 'Dark',\n",
       "       'Poison', 'Electric', 'Ground', 'Ice', 'Fairy', 'Steel',\n",
       "       'Fighting', 'Psychic', 'Rock', 'Ghost', 'Dragon', 'Flying',\n",
       "       'Graass'], dtype=object)"
      ]
     },
     "execution_count": 19,
     "metadata": {},
     "output_type": "execute_result"
    }
   ],
   "source": [
    "#Checking the unique values in the 'Type1' column\n",
    "df.type1.unique()"
   ]
  },
  {
   "cell_type": "markdown",
   "metadata": {},
   "source": [
    "> **Note:** The unique values in the 'Type1' column include 'Blastoise' and 'Graass,' which appear to be typos and not valid Pokémon types."
   ]
  },
  {
   "cell_type": "code",
   "execution_count": 26,
   "metadata": {},
   "outputs": [
    {
     "data": {
      "text/plain": [
       "type1\n",
       "Water        136\n",
       "Normal       117\n",
       "Grass         94\n",
       "Bug           83\n",
       "Psychic       80\n",
       "Fire          67\n",
       "Electric      63\n",
       "Rock          60\n",
       "Dark          48\n",
       "Fighting      45\n",
       "Ghost         43\n",
       "Poison        42\n",
       "Ground        42\n",
       "Dragon        41\n",
       "Steel         39\n",
       "Ice           38\n",
       "Fairy         23\n",
       "Flying         9\n",
       "Blastoise      1\n",
       "Graass         1\n",
       "Name: count, dtype: int64"
      ]
     },
     "execution_count": 26,
     "metadata": {},
     "output_type": "execute_result"
    }
   ],
   "source": [
    "#Counting and displaying the frequency of each Pokémon type in the 'type1' to verify if any typing errors are repeated in multiple rows\n",
    "df.type1.value_counts()"
   ]
  },
  {
   "cell_type": "code",
   "execution_count": 27,
   "metadata": {},
   "outputs": [
    {
     "data": {
      "text/plain": [
       "type2\n",
       "None        498\n",
       "Flying      114\n",
       "Fairy        44\n",
       "Psychic      43\n",
       "Poison       41\n",
       "Ground       39\n",
       "Steel        36\n",
       "Dragon       35\n",
       "Fighting     32\n",
       "Grass        29\n",
       "Dark         28\n",
       "Ghost        26\n",
       "Water        22\n",
       "Ice          19\n",
       "Fire         18\n",
       "Rock         16\n",
       "Normal       11\n",
       "Electric     11\n",
       "Bug          10\n",
       "Name: count, dtype: int64"
      ]
     },
     "execution_count": 27,
     "metadata": {},
     "output_type": "execute_result"
    }
   ],
   "source": [
    "#The same to 'type2' column\n",
    "df.type2.value_counts()"
   ]
  },
  {
   "cell_type": "markdown",
   "metadata": {},
   "source": [
    "Fortunately, the values do not repeat for the 'type2' column. However, we need to correct these errors in the 'type1' column."
   ]
  },
  {
   "cell_type": "code",
   "execution_count": 29,
   "metadata": {},
   "outputs": [
    {
     "data": {
      "text/html": [
       "<div>\n",
       "<style scoped>\n",
       "    .dataframe tbody tr th:only-of-type {\n",
       "        vertical-align: middle;\n",
       "    }\n",
       "\n",
       "    .dataframe tbody tr th {\n",
       "        vertical-align: top;\n",
       "    }\n",
       "\n",
       "    .dataframe thead th {\n",
       "        text-align: right;\n",
       "    }\n",
       "</style>\n",
       "<table border=\"1\" class=\"dataframe\">\n",
       "  <thead>\n",
       "    <tr style=\"text-align: right;\">\n",
       "      <th></th>\n",
       "      <th>number</th>\n",
       "      <th>name</th>\n",
       "      <th>type1</th>\n",
       "      <th>type2</th>\n",
       "      <th>total</th>\n",
       "      <th>hp</th>\n",
       "      <th>attack</th>\n",
       "      <th>defense</th>\n",
       "      <th>sp_attack</th>\n",
       "      <th>sp_defense</th>\n",
       "      <th>speed</th>\n",
       "      <th>generation</th>\n",
       "      <th>legendary</th>\n",
       "    </tr>\n",
       "  </thead>\n",
       "  <tbody>\n",
       "    <tr>\n",
       "      <th>15</th>\n",
       "      <td>9</td>\n",
       "      <td>Gigantamax Blasoise</td>\n",
       "      <td>Blastoise</td>\n",
       "      <td>Water</td>\n",
       "      <td>530</td>\n",
       "      <td>79</td>\n",
       "      <td>83</td>\n",
       "      <td>100</td>\n",
       "      <td>85</td>\n",
       "      <td>105</td>\n",
       "      <td>78</td>\n",
       "      <td>1</td>\n",
       "      <td>False</td>\n",
       "    </tr>\n",
       "  </tbody>\n",
       "</table>\n",
       "</div>"
      ],
      "text/plain": [
       "    number                 name      type1  type2  total  hp  attack  defense  \\\n",
       "15       9  Gigantamax Blasoise  Blastoise  Water    530  79      83      100   \n",
       "\n",
       "    sp_attack  sp_defense  speed  generation  legendary  \n",
       "15         85         105     78           1      False  "
      ]
     },
     "execution_count": 29,
     "metadata": {},
     "output_type": "execute_result"
    }
   ],
   "source": [
    "#Identifying the instance where 'Blastoise' is found in the 'type1' column, allowing us to locate and correct the error in the dataset.\n",
    "error_instance_blastoise = df[df['type1'] == 'Blastoise']\n",
    "error_instance_blastoise"
   ]
  },
  {
   "cell_type": "code",
   "execution_count": 36,
   "metadata": {},
   "outputs": [],
   "source": [
    "#Correcting values in the 'name', 'type1', and 'type2' columns\n",
    "df.loc[error_instance_blastoise.index, 'name'] = 'Gigantamax Blastoise'\n",
    "df.loc[error_instance_blastoise.index, 'type1'] = 'Water'\n",
    "df.loc[error_instance_blastoise.index, 'type2'] = 'None'"
   ]
  },
  {
   "cell_type": "code",
   "execution_count": 37,
   "metadata": {},
   "outputs": [
    {
     "data": {
      "text/html": [
       "<div>\n",
       "<style scoped>\n",
       "    .dataframe tbody tr th:only-of-type {\n",
       "        vertical-align: middle;\n",
       "    }\n",
       "\n",
       "    .dataframe tbody tr th {\n",
       "        vertical-align: top;\n",
       "    }\n",
       "\n",
       "    .dataframe thead th {\n",
       "        text-align: right;\n",
       "    }\n",
       "</style>\n",
       "<table border=\"1\" class=\"dataframe\">\n",
       "  <thead>\n",
       "    <tr style=\"text-align: right;\">\n",
       "      <th></th>\n",
       "      <th>number</th>\n",
       "      <th>name</th>\n",
       "      <th>type1</th>\n",
       "      <th>type2</th>\n",
       "      <th>total</th>\n",
       "      <th>hp</th>\n",
       "      <th>attack</th>\n",
       "      <th>defense</th>\n",
       "      <th>sp_attack</th>\n",
       "      <th>sp_defense</th>\n",
       "      <th>speed</th>\n",
       "      <th>generation</th>\n",
       "      <th>legendary</th>\n",
       "    </tr>\n",
       "  </thead>\n",
       "  <tbody>\n",
       "    <tr>\n",
       "      <th>15</th>\n",
       "      <td>9</td>\n",
       "      <td>Gigantamax Blastoise</td>\n",
       "      <td>Water</td>\n",
       "      <td>None</td>\n",
       "      <td>530</td>\n",
       "      <td>79</td>\n",
       "      <td>83</td>\n",
       "      <td>100</td>\n",
       "      <td>85</td>\n",
       "      <td>105</td>\n",
       "      <td>78</td>\n",
       "      <td>1</td>\n",
       "      <td>False</td>\n",
       "    </tr>\n",
       "  </tbody>\n",
       "</table>\n",
       "</div>"
      ],
      "text/plain": [
       "    number                  name  type1 type2  total  hp  attack  defense  \\\n",
       "15       9  Gigantamax Blastoise  Water  None    530  79      83      100   \n",
       "\n",
       "    sp_attack  sp_defense  speed  generation  legendary  \n",
       "15         85         105     78           1      False  "
      ]
     },
     "execution_count": 37,
     "metadata": {},
     "output_type": "execute_result"
    }
   ],
   "source": [
    "#Displaying the instance after the corrections\n",
    "df[df['name'] == 'Gigantamax Blastoise']"
   ]
  },
  {
   "cell_type": "code",
   "execution_count": 33,
   "metadata": {},
   "outputs": [
    {
     "data": {
      "text/html": [
       "<div>\n",
       "<style scoped>\n",
       "    .dataframe tbody tr th:only-of-type {\n",
       "        vertical-align: middle;\n",
       "    }\n",
       "\n",
       "    .dataframe tbody tr th {\n",
       "        vertical-align: top;\n",
       "    }\n",
       "\n",
       "    .dataframe thead th {\n",
       "        text-align: right;\n",
       "    }\n",
       "</style>\n",
       "<table border=\"1\" class=\"dataframe\">\n",
       "  <thead>\n",
       "    <tr style=\"text-align: right;\">\n",
       "      <th></th>\n",
       "      <th>number</th>\n",
       "      <th>name</th>\n",
       "      <th>type1</th>\n",
       "      <th>type2</th>\n",
       "      <th>total</th>\n",
       "      <th>hp</th>\n",
       "      <th>attack</th>\n",
       "      <th>defense</th>\n",
       "      <th>sp_attack</th>\n",
       "      <th>sp_defense</th>\n",
       "      <th>speed</th>\n",
       "      <th>generation</th>\n",
       "      <th>legendary</th>\n",
       "    </tr>\n",
       "  </thead>\n",
       "  <tbody>\n",
       "    <tr>\n",
       "      <th>978</th>\n",
       "      <td>830</td>\n",
       "      <td>Eldegoss</td>\n",
       "      <td>Graass</td>\n",
       "      <td>None</td>\n",
       "      <td>460</td>\n",
       "      <td>60</td>\n",
       "      <td>50</td>\n",
       "      <td>90</td>\n",
       "      <td>80</td>\n",
       "      <td>120</td>\n",
       "      <td>60</td>\n",
       "      <td>8</td>\n",
       "      <td>False</td>\n",
       "    </tr>\n",
       "  </tbody>\n",
       "</table>\n",
       "</div>"
      ],
      "text/plain": [
       "     number      name   type1 type2  total  hp  attack  defense  sp_attack  \\\n",
       "978     830  Eldegoss  Graass  None    460  60      50       90         80   \n",
       "\n",
       "     sp_defense  speed  generation  legendary  \n",
       "978         120     60           8      False  "
      ]
     },
     "execution_count": 33,
     "metadata": {},
     "output_type": "execute_result"
    }
   ],
   "source": [
    "#Identifying the instance error where 'Graass' is found in the 'type1' column\n",
    "error_instance_graass = df[df['type1'] == 'Graass']\n",
    "error_instance_graass"
   ]
  },
  {
   "cell_type": "code",
   "execution_count": 38,
   "metadata": {},
   "outputs": [],
   "source": [
    "#Correcting the values\n",
    "df.loc[error_instance_graass.index, 'type1'] = 'Grass'"
   ]
  },
  {
   "cell_type": "code",
   "execution_count": 39,
   "metadata": {},
   "outputs": [
    {
     "data": {
      "text/html": [
       "<div>\n",
       "<style scoped>\n",
       "    .dataframe tbody tr th:only-of-type {\n",
       "        vertical-align: middle;\n",
       "    }\n",
       "\n",
       "    .dataframe tbody tr th {\n",
       "        vertical-align: top;\n",
       "    }\n",
       "\n",
       "    .dataframe thead th {\n",
       "        text-align: right;\n",
       "    }\n",
       "</style>\n",
       "<table border=\"1\" class=\"dataframe\">\n",
       "  <thead>\n",
       "    <tr style=\"text-align: right;\">\n",
       "      <th></th>\n",
       "      <th>number</th>\n",
       "      <th>name</th>\n",
       "      <th>type1</th>\n",
       "      <th>type2</th>\n",
       "      <th>total</th>\n",
       "      <th>hp</th>\n",
       "      <th>attack</th>\n",
       "      <th>defense</th>\n",
       "      <th>sp_attack</th>\n",
       "      <th>sp_defense</th>\n",
       "      <th>speed</th>\n",
       "      <th>generation</th>\n",
       "      <th>legendary</th>\n",
       "    </tr>\n",
       "  </thead>\n",
       "  <tbody>\n",
       "    <tr>\n",
       "      <th>978</th>\n",
       "      <td>830</td>\n",
       "      <td>Eldegoss</td>\n",
       "      <td>Grass</td>\n",
       "      <td>None</td>\n",
       "      <td>460</td>\n",
       "      <td>60</td>\n",
       "      <td>50</td>\n",
       "      <td>90</td>\n",
       "      <td>80</td>\n",
       "      <td>120</td>\n",
       "      <td>60</td>\n",
       "      <td>8</td>\n",
       "      <td>False</td>\n",
       "    </tr>\n",
       "  </tbody>\n",
       "</table>\n",
       "</div>"
      ],
      "text/plain": [
       "     number      name  type1 type2  total  hp  attack  defense  sp_attack  \\\n",
       "978     830  Eldegoss  Grass  None    460  60      50       90         80   \n",
       "\n",
       "     sp_defense  speed  generation  legendary  \n",
       "978         120     60           8      False  "
      ]
     },
     "execution_count": 39,
     "metadata": {},
     "output_type": "execute_result"
    }
   ],
   "source": [
    "#Displaying the instance after the corrections\n",
    "df[df['name'] == 'Eldegoss']"
   ]
  },
  {
   "cell_type": "code",
   "execution_count": 40,
   "metadata": {},
   "outputs": [
    {
     "data": {
      "text/plain": [
       "type1\n",
       "Water       137\n",
       "Normal      117\n",
       "Grass        95\n",
       "Bug          83\n",
       "Psychic      80\n",
       "Fire         67\n",
       "Electric     63\n",
       "Rock         60\n",
       "Dark         48\n",
       "Fighting     45\n",
       "Ghost        43\n",
       "Poison       42\n",
       "Ground       42\n",
       "Dragon       41\n",
       "Steel        39\n",
       "Ice          38\n",
       "Fairy        23\n",
       "Flying        9\n",
       "Name: count, dtype: int64"
      ]
     },
     "execution_count": 40,
     "metadata": {},
     "output_type": "execute_result"
    }
   ],
   "source": [
    "#Now, all instances in 'type1' and 'type2' columns have been corrected. Displaying the types again\n",
    "df.type1.value_counts()"
   ]
  },
  {
   "cell_type": "code",
   "execution_count": 14,
   "metadata": {},
   "outputs": [
    {
     "data": {
      "text/html": [
       "<div>\n",
       "<style scoped>\n",
       "    .dataframe tbody tr th:only-of-type {\n",
       "        vertical-align: middle;\n",
       "    }\n",
       "\n",
       "    .dataframe tbody tr th {\n",
       "        vertical-align: top;\n",
       "    }\n",
       "\n",
       "    .dataframe thead th {\n",
       "        text-align: right;\n",
       "    }\n",
       "</style>\n",
       "<table border=\"1\" class=\"dataframe\">\n",
       "  <thead>\n",
       "    <tr style=\"text-align: right;\">\n",
       "      <th></th>\n",
       "      <th>number</th>\n",
       "      <th>total</th>\n",
       "      <th>hp</th>\n",
       "      <th>attack</th>\n",
       "      <th>defense</th>\n",
       "      <th>sp_attack</th>\n",
       "      <th>sp_defense</th>\n",
       "      <th>speed</th>\n",
       "      <th>generation</th>\n",
       "    </tr>\n",
       "  </thead>\n",
       "  <tbody>\n",
       "    <tr>\n",
       "      <th>count</th>\n",
       "      <td>1072.000000</td>\n",
       "      <td>1072.000000</td>\n",
       "      <td>1072.000000</td>\n",
       "      <td>1072.000000</td>\n",
       "      <td>1072.000000</td>\n",
       "      <td>1072.000000</td>\n",
       "      <td>1072.000000</td>\n",
       "      <td>1072.000000</td>\n",
       "      <td>1072.000000</td>\n",
       "    </tr>\n",
       "    <tr>\n",
       "      <th>mean</th>\n",
       "      <td>445.219216</td>\n",
       "      <td>440.885261</td>\n",
       "      <td>70.486940</td>\n",
       "      <td>80.938433</td>\n",
       "      <td>74.968284</td>\n",
       "      <td>73.273321</td>\n",
       "      <td>72.476679</td>\n",
       "      <td>68.792910</td>\n",
       "      <td>4.294776</td>\n",
       "    </tr>\n",
       "    <tr>\n",
       "      <th>std</th>\n",
       "      <td>267.772806</td>\n",
       "      <td>121.379077</td>\n",
       "      <td>26.868039</td>\n",
       "      <td>32.463582</td>\n",
       "      <td>31.208059</td>\n",
       "      <td>32.643119</td>\n",
       "      <td>27.934253</td>\n",
       "      <td>30.076281</td>\n",
       "      <td>2.346472</td>\n",
       "    </tr>\n",
       "    <tr>\n",
       "      <th>min</th>\n",
       "      <td>1.000000</td>\n",
       "      <td>175.000000</td>\n",
       "      <td>1.000000</td>\n",
       "      <td>5.000000</td>\n",
       "      <td>5.000000</td>\n",
       "      <td>10.000000</td>\n",
       "      <td>20.000000</td>\n",
       "      <td>5.000000</td>\n",
       "      <td>0.000000</td>\n",
       "    </tr>\n",
       "    <tr>\n",
       "      <th>25%</th>\n",
       "      <td>209.750000</td>\n",
       "      <td>330.000000</td>\n",
       "      <td>50.000000</td>\n",
       "      <td>56.000000</td>\n",
       "      <td>52.000000</td>\n",
       "      <td>50.000000</td>\n",
       "      <td>50.000000</td>\n",
       "      <td>45.000000</td>\n",
       "      <td>2.000000</td>\n",
       "    </tr>\n",
       "    <tr>\n",
       "      <th>50%</th>\n",
       "      <td>442.500000</td>\n",
       "      <td>460.500000</td>\n",
       "      <td>68.000000</td>\n",
       "      <td>80.000000</td>\n",
       "      <td>70.000000</td>\n",
       "      <td>65.000000</td>\n",
       "      <td>70.000000</td>\n",
       "      <td>65.000000</td>\n",
       "      <td>4.000000</td>\n",
       "    </tr>\n",
       "    <tr>\n",
       "      <th>75%</th>\n",
       "      <td>681.250000</td>\n",
       "      <td>519.250000</td>\n",
       "      <td>84.000000</td>\n",
       "      <td>100.000000</td>\n",
       "      <td>90.000000</td>\n",
       "      <td>95.000000</td>\n",
       "      <td>90.000000</td>\n",
       "      <td>90.000000</td>\n",
       "      <td>6.000000</td>\n",
       "    </tr>\n",
       "    <tr>\n",
       "      <th>max</th>\n",
       "      <td>898.000000</td>\n",
       "      <td>1125.000000</td>\n",
       "      <td>255.000000</td>\n",
       "      <td>190.000000</td>\n",
       "      <td>250.000000</td>\n",
       "      <td>194.000000</td>\n",
       "      <td>250.000000</td>\n",
       "      <td>200.000000</td>\n",
       "      <td>8.000000</td>\n",
       "    </tr>\n",
       "  </tbody>\n",
       "</table>\n",
       "</div>"
      ],
      "text/plain": [
       "            number        total           hp       attack      defense  \\\n",
       "count  1072.000000  1072.000000  1072.000000  1072.000000  1072.000000   \n",
       "mean    445.219216   440.885261    70.486940    80.938433    74.968284   \n",
       "std     267.772806   121.379077    26.868039    32.463582    31.208059   \n",
       "min       1.000000   175.000000     1.000000     5.000000     5.000000   \n",
       "25%     209.750000   330.000000    50.000000    56.000000    52.000000   \n",
       "50%     442.500000   460.500000    68.000000    80.000000    70.000000   \n",
       "75%     681.250000   519.250000    84.000000   100.000000    90.000000   \n",
       "max     898.000000  1125.000000   255.000000   190.000000   250.000000   \n",
       "\n",
       "         sp_attack   sp_defense        speed   generation  \n",
       "count  1072.000000  1072.000000  1072.000000  1072.000000  \n",
       "mean     73.273321    72.476679    68.792910     4.294776  \n",
       "std      32.643119    27.934253    30.076281     2.346472  \n",
       "min      10.000000    20.000000     5.000000     0.000000  \n",
       "25%      50.000000    50.000000    45.000000     2.000000  \n",
       "50%      65.000000    70.000000    65.000000     4.000000  \n",
       "75%      95.000000    90.000000    90.000000     6.000000  \n",
       "max     194.000000   250.000000   200.000000     8.000000  "
      ]
     },
     "execution_count": 14,
     "metadata": {},
     "output_type": "execute_result"
    }
   ],
   "source": [
    "#Generate basic statistics for numerical columns, providing insights into the data distribution and central tendencies.\n",
    "df.describe()"
   ]
  },
  {
   "cell_type": "markdown",
   "metadata": {},
   "source": [
    "With the data preprocessing phase now behind us, we embark upon the crucial phase of initial exploratory analysis. \n",
    "\n",
    "This stage serves as the cornerstone of our data journey, where we seek to unearth hidden insights, patterns, and nuances within the dataset.\n"
   ]
  },
  {
   "cell_type": "code",
   "execution_count": 16,
   "metadata": {},
   "outputs": [],
   "source": [
    "#Importing matplotlib to enable data visualization capabilities.\n",
    "import matplotlib.pyplot as plt "
   ]
  },
  {
   "cell_type": "code",
   "execution_count": 41,
   "metadata": {},
   "outputs": [],
   "source": [
    "#Calculating the count of Pokémon types. \n",
    "#This step helps us understand the distribution of Pokémon types in the dataset.\n",
    "type_counts = df['type1'].value_counts()"
   ]
  },
  {
   "cell_type": "code",
   "execution_count": 93,
   "metadata": {},
   "outputs": [
    {
     "data": {
      "image/png": "[encoded data removed]",
      "text/plain": [
       "<Figure size 1200x600 with 1 Axes>"
      ]
     },
     "metadata": {},
     "output_type": "display_data"
    }
   ],
   "source": [
    "#Performing a graphical visualization of the primary types of Pokémon present in the dataset\n",
    "\n",
    "# Plot settings\n",
    "plt.figure(figsize=(12, 6))  # Figure size\n",
    "plt.bar(type_counts.index, type_counts.values, color='purple')\n",
    "\n",
    "# Labels and title\n",
    "plt.xlabel('Pokémon Type')\n",
    "plt.ylabel('Count')\n",
    "plt.title('Distribution of Pokémon Primary Types')\n",
    "\n",
    "# Rotate x-axis labels for better readability\n",
    "plt.xticks(rotation=45)\n",
    "\n",
    "# Display the chart\n",
    "plt.tight_layout()  # Adjust layout to prevent label clipping\n",
    "plt.show()\n"
   ]
  },
  {
   "cell_type": "code",
   "execution_count": 70,
   "metadata": {},
   "outputs": [],
   "source": [
    "#Filtering out secondary types that are 'None' to obtain valid secondary subtypes for each Pokémon\n",
    "filtered_df = df[df['type2'] != 'None']"
   ]
  },
  {
   "cell_type": "code",
   "execution_count": 71,
   "metadata": {},
   "outputs": [],
   "source": [
    "#Calculating the count of Pokémon secondary types.\n",
    "type2_counts = filtered_df['type2'].value_counts()"
   ]
  },
  {
   "cell_type": "code",
   "execution_count": 94,
   "metadata": {},
   "outputs": [
    {
     "data": {
      "image/png": "[encoded data removed]",
      "text/plain": [
       "<Figure size 1200x600 with 1 Axes>"
      ]
     },
     "metadata": {},
     "output_type": "display_data"
    }
   ],
   "source": [
    "#Performing a graphical visualization of the secondary types of Pokémon present in the dataset\n",
    "\n",
    "# Plot settings\n",
    "plt.figure(figsize=(12, 6))  # Figure size\n",
    "plt.bar(type2_counts.index, type2_counts.values, color='purple')\n",
    "\n",
    "\n",
    "# Labels and title\n",
    "plt.xlabel('Pokémon Type')\n",
    "plt.ylabel('Count')\n",
    "plt.title('Distribution of Pokémon Secondary Types')\n",
    "\n",
    "# Rotate x-axis labels for better readability\n",
    "plt.xticks(rotation=45)\n",
    "\n",
    "# Display the chart\n",
    "plt.tight_layout()  # Adjust layout to prevent label clipping\n",
    "plt.show()"
   ]
  },
  {
   "cell_type": "code",
   "execution_count": 96,
   "metadata": {},
   "outputs": [
    {
     "data": {
      "image/png": "[encoded data removed]",
      "text/plain": [
       "<Figure size 800x600 with 1 Axes>"
      ]
     },
     "metadata": {},
     "output_type": "display_data"
    }
   ],
   "source": [
    "# Count Pokémon with valid secondary type (excluding 'None')\n",
    "valid_secondary_count = len(df[df['type2'] != 'None'])\n",
    "\n",
    "# Count Pokémon with secondary type as 'None'\n",
    "none_secondary_count = len(df[df['type2'] == 'None'])\n",
    "\n",
    "# Labels and values for the chart\n",
    "labels = ['Pokémon with Secondary Type', 'Pokémon without Secondary Type']\n",
    "counts = [valid_secondary_count, none_secondary_count]\n",
    "\n",
    "# Colors for the bars\n",
    "colors = ['purple', 'gray']\n",
    "\n",
    "# Create the bar chart\n",
    "plt.figure(figsize=(8, 6))\n",
    "plt.bar(labels, counts, color=colors)\n",
    "\n",
    "# Labels and title\n",
    "plt.xlabel('Pokémon Type')\n",
    "plt.ylabel('Count')\n",
    "plt.title('Relationship between Pokémon with Secondary Type and without Secundary Type')\n",
    "\n",
    "# Display the chart\n",
    "plt.tight_layout()\n",
    "plt.show()"
   ]
  },
  {
   "cell_type": "markdown",
   "metadata": {},
   "source": [
    "## Pokémon Type Analysis\n",
    "\n",
    "In our initial exploration of Pokémon data, we've uncovered some intriguing insights into the distribution of Pokémon types, both primary and secondary. Let's take a closer look at what we've discovered:\n",
    "\n",
    "### Primary Pokémon Types\n",
    "\n",
    "* **Water Dominance**: It's clear that 'Water' is the dominant primary type among Pokémon, boasting the highest count and prevalence. This suggests that water-based Pokémon are quite abundant in the Pokémon world.\n",
    "\n",
    "* **Flying Rarity**: On the other end of the spectrum, the 'Flying' type stands out as the least common primary type. This rarity may indicate that not many Pokémon are primarily associated with flying abilities.\n",
    "\n",
    "### Secondary Pokémon Types\n",
    "\n",
    "* **Surprising 'Flying' Prevalence**: Interestingly, while 'Flying' is a rare primary type, it's remarkably common as a secondary type among Pokémon. This raises questions about the prevalence of flying abilities among Pokémon, even when it's not their primary focus.\n",
    "\n",
    "### The Relationship Between Pokémons with Secondary Types and Pokémons withouth Secundary Types\n",
    "\n",
    "* **Balanced Secondary Types**: The relationship between Pokémon with secondary types and those without secondary types is surprisingly balanced. This equilibrium suggests that a significant portion of Pokémon possess a secondary type, adding depth to their character.\n",
    "\n",
    "These observations provide valuable insights into the diverse world of Pokémon types and hint at intriguing aspects of their abilities and characteristics. Further analysis and exploration may unveil more secrets about the Pokémon universe.\n"
   ]
  },
  {
   "cell_type": "markdown",
   "metadata": {},
   "source": []
  }
 ],
 "metadata": {
  "kernelspec": {
   "display_name": "Python 3",
   "language": "python",
   "name": "python3"
  },
  "language_info": {
   "codemirror_mode": {
    "name": "ipython",
    "version": 3
   },
   "file_extension": ".py",
   "mimetype": "text/x-python",
   "name": "python",
   "nbconvert_exporter": "python",
   "pygments_lexer": "ipython3",
   "version": "3.10.12"
  },
  "orig_nbformat": 4
 },
 "nbformat": 4,
 "nbformat_minor": 2
}
